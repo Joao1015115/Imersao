{
  "nbformat": 4,
  "nbformat_minor": 0,
  "metadata": {
    "colab": {
      "provenance": []
    },
    "kernelspec": {
      "name": "python3",
      "display_name": "Python 3"
    },
    "language_info": {
      "name": "python"
    }
  },
  "cells": [
    {
      "cell_type": "code",
      "source": [
        "#Projeto Imersão\n",
        "\n",
        "import os\n",
        "from google.colab import userdata\n",
        "\n",
        "os.environ[\"GOOGLE_API_KEY\"] = userdata.get('GOOGLE_API_KEY')\n",
        "\n",
        "\n",
        "from google import genai\n",
        "\n",
        "client = genai.Client()\n",
        "\n",
        "MODEL_ID = \"gemini-2.0-flash\"\n",
        "\n",
        "# Instalar Framework ADK de agentes do Google ################################################\n",
        "!pip install -q google-adk\n",
        "\n",
        "from google.adk.agents import Agent\n",
        "from google.adk.runners import Runner\n",
        "from google.adk.sessions import InMemorySessionService\n",
        "from google.adk.tools import google_search\n",
        "from google.genai import types\n",
        "from datetime import date\n",
        "import textwrap\n",
        "from IPython.display import display, Markdown\n",
        "import requests\n",
        "import warnings\n",
        "\n",
        "warnings.filterwarnings(\"ignore\")\n",
        "\n",
        "def call_agent(agent: Agent, message_text: str) -> str:\n",
        "\n",
        "    session_service = InMemorySessionService()\n",
        "\n",
        "    session = session_service.create_session(app_name=agent.name, user_id=\"user1\", session_id=\"session1\")\n",
        "\n",
        "    runner = Runner(agent=agent, app_name=agent.name, session_service=session_service)\n",
        "\n",
        "    content = types.Content(role=\"user\", parts=[types.Part(text=message_text)])\n",
        "\n",
        "    final_response = \"\"\n",
        "    for event in runner.run(user_id=\"user1\", session_id=\"session1\", new_message=content):\n",
        "        if event.is_final_response():\n",
        "          for part in event.content.parts:\n",
        "            if part.text is not None:\n",
        "              final_response += part.text\n",
        "              final_response += \"\\n\"\n",
        "    return final_response\n",
        "\n",
        "def to_markdown(text):\n",
        "  text = text.replace('•', '  *')\n",
        "  return Markdown(textwrap.indent(text, '> ', predicate=lambda _: True))"
      ],
      "metadata": {
        "id": "gCzNOUpvlfpK"
      },
      "execution_count": 35,
      "outputs": []
    },
    {
      "cell_type": "code",
      "source": [
        "!pip install google-generativeai"
      ],
      "metadata": {
        "colab": {
          "base_uri": "https://localhost:8080/"
        },
        "id": "hsTl7DUmn4xm",
        "outputId": "9b89f7d0-2084-4065-de95-e0b90cae9bd6"
      },
      "execution_count": 36,
      "outputs": [
        {
          "output_type": "stream",
          "name": "stdout",
          "text": [
            "Requirement already satisfied: google-generativeai in /usr/local/lib/python3.11/dist-packages (0.8.5)\n",
            "Requirement already satisfied: google-ai-generativelanguage==0.6.15 in /usr/local/lib/python3.11/dist-packages (from google-generativeai) (0.6.15)\n",
            "Requirement already satisfied: google-api-core in /usr/local/lib/python3.11/dist-packages (from google-generativeai) (2.24.2)\n",
            "Requirement already satisfied: google-api-python-client in /usr/local/lib/python3.11/dist-packages (from google-generativeai) (2.169.0)\n",
            "Requirement already satisfied: google-auth>=2.15.0 in /usr/local/lib/python3.11/dist-packages (from google-generativeai) (2.38.0)\n",
            "Requirement already satisfied: protobuf in /usr/local/lib/python3.11/dist-packages (from google-generativeai) (5.29.4)\n",
            "Requirement already satisfied: pydantic in /usr/local/lib/python3.11/dist-packages (from google-generativeai) (2.11.4)\n",
            "Requirement already satisfied: tqdm in /usr/local/lib/python3.11/dist-packages (from google-generativeai) (4.67.1)\n",
            "Requirement already satisfied: typing-extensions in /usr/local/lib/python3.11/dist-packages (from google-generativeai) (4.13.2)\n",
            "Requirement already satisfied: proto-plus<2.0.0dev,>=1.22.3 in /usr/local/lib/python3.11/dist-packages (from google-ai-generativelanguage==0.6.15->google-generativeai) (1.26.1)\n",
            "Requirement already satisfied: googleapis-common-protos<2.0.0,>=1.56.2 in /usr/local/lib/python3.11/dist-packages (from google-api-core->google-generativeai) (1.70.0)\n",
            "Requirement already satisfied: requests<3.0.0,>=2.18.0 in /usr/local/lib/python3.11/dist-packages (from google-api-core->google-generativeai) (2.32.3)\n",
            "Requirement already satisfied: cachetools<6.0,>=2.0.0 in /usr/local/lib/python3.11/dist-packages (from google-auth>=2.15.0->google-generativeai) (5.5.2)\n",
            "Requirement already satisfied: pyasn1-modules>=0.2.1 in /usr/local/lib/python3.11/dist-packages (from google-auth>=2.15.0->google-generativeai) (0.4.2)\n",
            "Requirement already satisfied: rsa<5,>=3.1.4 in /usr/local/lib/python3.11/dist-packages (from google-auth>=2.15.0->google-generativeai) (4.9.1)\n",
            "Requirement already satisfied: httplib2<1.0.0,>=0.19.0 in /usr/local/lib/python3.11/dist-packages (from google-api-python-client->google-generativeai) (0.22.0)\n",
            "Requirement already satisfied: google-auth-httplib2<1.0.0,>=0.2.0 in /usr/local/lib/python3.11/dist-packages (from google-api-python-client->google-generativeai) (0.2.0)\n",
            "Requirement already satisfied: uritemplate<5,>=3.0.1 in /usr/local/lib/python3.11/dist-packages (from google-api-python-client->google-generativeai) (4.1.1)\n",
            "Requirement already satisfied: annotated-types>=0.6.0 in /usr/local/lib/python3.11/dist-packages (from pydantic->google-generativeai) (0.7.0)\n",
            "Requirement already satisfied: pydantic-core==2.33.2 in /usr/local/lib/python3.11/dist-packages (from pydantic->google-generativeai) (2.33.2)\n",
            "Requirement already satisfied: typing-inspection>=0.4.0 in /usr/local/lib/python3.11/dist-packages (from pydantic->google-generativeai) (0.4.0)\n",
            "Requirement already satisfied: grpcio<2.0dev,>=1.33.2 in /usr/local/lib/python3.11/dist-packages (from google-api-core[grpc]!=2.0.*,!=2.1.*,!=2.10.*,!=2.2.*,!=2.3.*,!=2.4.*,!=2.5.*,!=2.6.*,!=2.7.*,!=2.8.*,!=2.9.*,<3.0.0dev,>=1.34.1->google-ai-generativelanguage==0.6.15->google-generativeai) (1.71.0)\n",
            "Requirement already satisfied: grpcio-status<2.0.dev0,>=1.33.2 in /usr/local/lib/python3.11/dist-packages (from google-api-core[grpc]!=2.0.*,!=2.1.*,!=2.10.*,!=2.2.*,!=2.3.*,!=2.4.*,!=2.5.*,!=2.6.*,!=2.7.*,!=2.8.*,!=2.9.*,<3.0.0dev,>=1.34.1->google-ai-generativelanguage==0.6.15->google-generativeai) (1.71.0)\n",
            "Requirement already satisfied: pyparsing!=3.0.0,!=3.0.1,!=3.0.2,!=3.0.3,<4,>=2.4.2 in /usr/local/lib/python3.11/dist-packages (from httplib2<1.0.0,>=0.19.0->google-api-python-client->google-generativeai) (3.2.3)\n",
            "Requirement already satisfied: pyasn1<0.7.0,>=0.6.1 in /usr/local/lib/python3.11/dist-packages (from pyasn1-modules>=0.2.1->google-auth>=2.15.0->google-generativeai) (0.6.1)\n",
            "Requirement already satisfied: charset-normalizer<4,>=2 in /usr/local/lib/python3.11/dist-packages (from requests<3.0.0,>=2.18.0->google-api-core->google-generativeai) (3.4.2)\n",
            "Requirement already satisfied: idna<4,>=2.5 in /usr/local/lib/python3.11/dist-packages (from requests<3.0.0,>=2.18.0->google-api-core->google-generativeai) (3.10)\n",
            "Requirement already satisfied: urllib3<3,>=1.21.1 in /usr/local/lib/python3.11/dist-packages (from requests<3.0.0,>=2.18.0->google-api-core->google-generativeai) (2.4.0)\n",
            "Requirement already satisfied: certifi>=2017.4.17 in /usr/local/lib/python3.11/dist-packages (from requests<3.0.0,>=2.18.0->google-api-core->google-generativeai) (2025.4.26)\n"
          ]
        }
      ]
    },
    {
      "cell_type": "code",
      "source": [
        "!pip install streamlit"
      ],
      "metadata": {
        "colab": {
          "base_uri": "https://localhost:8080/"
        },
        "id": "uCP_vTNtsjWe",
        "outputId": "349b5884-3f23-4787-c3c4-7ca3c3f7f83e"
      },
      "execution_count": 27,
      "outputs": [
        {
          "output_type": "stream",
          "name": "stdout",
          "text": [
            "Collecting streamlit\n",
            "  Downloading streamlit-1.45.1-py3-none-any.whl.metadata (8.9 kB)\n",
            "Requirement already satisfied: altair<6,>=4.0 in /usr/local/lib/python3.11/dist-packages (from streamlit) (5.5.0)\n",
            "Requirement already satisfied: blinker<2,>=1.5.0 in /usr/local/lib/python3.11/dist-packages (from streamlit) (1.9.0)\n",
            "Requirement already satisfied: cachetools<6,>=4.0 in /usr/local/lib/python3.11/dist-packages (from streamlit) (5.5.2)\n",
            "Requirement already satisfied: click<9,>=7.0 in /usr/local/lib/python3.11/dist-packages (from streamlit) (8.2.0)\n",
            "Requirement already satisfied: numpy<3,>=1.23 in /usr/local/lib/python3.11/dist-packages (from streamlit) (2.0.2)\n",
            "Requirement already satisfied: packaging<25,>=20 in /usr/local/lib/python3.11/dist-packages (from streamlit) (24.2)\n",
            "Requirement already satisfied: pandas<3,>=1.4.0 in /usr/local/lib/python3.11/dist-packages (from streamlit) (2.2.2)\n",
            "Requirement already satisfied: pillow<12,>=7.1.0 in /usr/local/lib/python3.11/dist-packages (from streamlit) (11.2.1)\n",
            "Requirement already satisfied: protobuf<7,>=3.20 in /usr/local/lib/python3.11/dist-packages (from streamlit) (5.29.4)\n",
            "Requirement already satisfied: pyarrow>=7.0 in /usr/local/lib/python3.11/dist-packages (from streamlit) (18.1.0)\n",
            "Requirement already satisfied: requests<3,>=2.27 in /usr/local/lib/python3.11/dist-packages (from streamlit) (2.32.3)\n",
            "Requirement already satisfied: tenacity<10,>=8.1.0 in /usr/local/lib/python3.11/dist-packages (from streamlit) (9.1.2)\n",
            "Requirement already satisfied: toml<2,>=0.10.1 in /usr/local/lib/python3.11/dist-packages (from streamlit) (0.10.2)\n",
            "Requirement already satisfied: typing-extensions<5,>=4.4.0 in /usr/local/lib/python3.11/dist-packages (from streamlit) (4.13.2)\n",
            "Collecting watchdog<7,>=2.1.5 (from streamlit)\n",
            "  Downloading watchdog-6.0.0-py3-none-manylinux2014_x86_64.whl.metadata (44 kB)\n",
            "\u001b[2K     \u001b[90m━━━━━━━━━━━━━━━━━━━━━━━━━━━━━━━━━━━━━━━━\u001b[0m \u001b[32m44.3/44.3 kB\u001b[0m \u001b[31m1.9 MB/s\u001b[0m eta \u001b[36m0:00:00\u001b[0m\n",
            "\u001b[?25hRequirement already satisfied: gitpython!=3.1.19,<4,>=3.0.7 in /usr/local/lib/python3.11/dist-packages (from streamlit) (3.1.44)\n",
            "Collecting pydeck<1,>=0.8.0b4 (from streamlit)\n",
            "  Downloading pydeck-0.9.1-py2.py3-none-any.whl.metadata (4.1 kB)\n",
            "Requirement already satisfied: tornado<7,>=6.0.3 in /usr/local/lib/python3.11/dist-packages (from streamlit) (6.4.2)\n",
            "Requirement already satisfied: jinja2 in /usr/local/lib/python3.11/dist-packages (from altair<6,>=4.0->streamlit) (3.1.6)\n",
            "Requirement already satisfied: jsonschema>=3.0 in /usr/local/lib/python3.11/dist-packages (from altair<6,>=4.0->streamlit) (4.23.0)\n",
            "Requirement already satisfied: narwhals>=1.14.2 in /usr/local/lib/python3.11/dist-packages (from altair<6,>=4.0->streamlit) (1.39.0)\n",
            "Requirement already satisfied: gitdb<5,>=4.0.1 in /usr/local/lib/python3.11/dist-packages (from gitpython!=3.1.19,<4,>=3.0.7->streamlit) (4.0.12)\n",
            "Requirement already satisfied: python-dateutil>=2.8.2 in /usr/local/lib/python3.11/dist-packages (from pandas<3,>=1.4.0->streamlit) (2.9.0.post0)\n",
            "Requirement already satisfied: pytz>=2020.1 in /usr/local/lib/python3.11/dist-packages (from pandas<3,>=1.4.0->streamlit) (2025.2)\n",
            "Requirement already satisfied: tzdata>=2022.7 in /usr/local/lib/python3.11/dist-packages (from pandas<3,>=1.4.0->streamlit) (2025.2)\n",
            "Requirement already satisfied: charset-normalizer<4,>=2 in /usr/local/lib/python3.11/dist-packages (from requests<3,>=2.27->streamlit) (3.4.2)\n",
            "Requirement already satisfied: idna<4,>=2.5 in /usr/local/lib/python3.11/dist-packages (from requests<3,>=2.27->streamlit) (3.10)\n",
            "Requirement already satisfied: urllib3<3,>=1.21.1 in /usr/local/lib/python3.11/dist-packages (from requests<3,>=2.27->streamlit) (2.4.0)\n",
            "Requirement already satisfied: certifi>=2017.4.17 in /usr/local/lib/python3.11/dist-packages (from requests<3,>=2.27->streamlit) (2025.4.26)\n",
            "Requirement already satisfied: smmap<6,>=3.0.1 in /usr/local/lib/python3.11/dist-packages (from gitdb<5,>=4.0.1->gitpython!=3.1.19,<4,>=3.0.7->streamlit) (5.0.2)\n",
            "Requirement already satisfied: MarkupSafe>=2.0 in /usr/local/lib/python3.11/dist-packages (from jinja2->altair<6,>=4.0->streamlit) (3.0.2)\n",
            "Requirement already satisfied: attrs>=22.2.0 in /usr/local/lib/python3.11/dist-packages (from jsonschema>=3.0->altair<6,>=4.0->streamlit) (25.3.0)\n",
            "Requirement already satisfied: jsonschema-specifications>=2023.03.6 in /usr/local/lib/python3.11/dist-packages (from jsonschema>=3.0->altair<6,>=4.0->streamlit) (2025.4.1)\n",
            "Requirement already satisfied: referencing>=0.28.4 in /usr/local/lib/python3.11/dist-packages (from jsonschema>=3.0->altair<6,>=4.0->streamlit) (0.36.2)\n",
            "Requirement already satisfied: rpds-py>=0.7.1 in /usr/local/lib/python3.11/dist-packages (from jsonschema>=3.0->altair<6,>=4.0->streamlit) (0.24.0)\n",
            "Requirement already satisfied: six>=1.5 in /usr/local/lib/python3.11/dist-packages (from python-dateutil>=2.8.2->pandas<3,>=1.4.0->streamlit) (1.17.0)\n",
            "Downloading streamlit-1.45.1-py3-none-any.whl (9.9 MB)\n",
            "\u001b[2K   \u001b[90m━━━━━━━━━━━━━━━━━━━━━━━━━━━━━━━━━━━━━━━━\u001b[0m \u001b[32m9.9/9.9 MB\u001b[0m \u001b[31m55.9 MB/s\u001b[0m eta \u001b[36m0:00:00\u001b[0m\n",
            "\u001b[?25hDownloading pydeck-0.9.1-py2.py3-none-any.whl (6.9 MB)\n",
            "\u001b[2K   \u001b[90m━━━━━━━━━━━━━━━━━━━━━━━━━━━━━━━━━━━━━━━━\u001b[0m \u001b[32m6.9/6.9 MB\u001b[0m \u001b[31m79.6 MB/s\u001b[0m eta \u001b[36m0:00:00\u001b[0m\n",
            "\u001b[?25hDownloading watchdog-6.0.0-py3-none-manylinux2014_x86_64.whl (79 kB)\n",
            "\u001b[2K   \u001b[90m━━━━━━━━━━━━━━━━━━━━━━━━━━━━━━━━━━━━━━━━\u001b[0m \u001b[32m79.1/79.1 kB\u001b[0m \u001b[31m6.2 MB/s\u001b[0m eta \u001b[36m0:00:00\u001b[0m\n",
            "\u001b[?25hInstalling collected packages: watchdog, pydeck, streamlit\n",
            "Successfully installed pydeck-0.9.1 streamlit-1.45.1 watchdog-6.0.0\n"
          ]
        }
      ]
    },
    {
      "cell_type": "code",
      "source": [
        "!pip install -q streamlit\n",
        "!npm install localtunnel"
      ],
      "metadata": {
        "colab": {
          "base_uri": "https://localhost:8080/"
        },
        "id": "dcJugmWfyngp",
        "outputId": "f80e5260-ad01-47aa-c98b-fa39eb7c7ff8"
      },
      "execution_count": 32,
      "outputs": [
        {
          "output_type": "stream",
          "name": "stdout",
          "text": [
            "\u001b[1G\u001b[0K⠙\u001b[1G\u001b[0K⠹\u001b[1G\u001b[0K⠸\u001b[1G\u001b[0K⠼\u001b[1G\u001b[0K⠴\u001b[1G\u001b[0K⠦\u001b[1G\u001b[0K⠧\u001b[1G\u001b[0K⠇\u001b[1G\u001b[0K⠏\u001b[1G\u001b[0K⠋\u001b[1G\u001b[0K⠙\u001b[1G\u001b[0K⠹\u001b[1G\u001b[0K⠸\u001b[1G\u001b[0K⠼\u001b[1G\u001b[0K⠴\u001b[1G\u001b[0K⠦\u001b[1G\u001b[0K⠧\u001b[1G\u001b[0K⠇\u001b[1G\u001b[0K⠏\u001b[1G\u001b[0K⠋\u001b[1G\u001b[0K⠙\u001b[1G\u001b[0K⠹\u001b[1G\u001b[0K\n",
            "added 22 packages in 3s\n",
            "\u001b[1G\u001b[0K⠹\u001b[1G\u001b[0K\n",
            "\u001b[1G\u001b[0K⠹\u001b[1G\u001b[0K3 packages are looking for funding\n",
            "\u001b[1G\u001b[0K⠹\u001b[1G\u001b[0K  run `npm fund` for details\n",
            "\u001b[1G\u001b[0K⠹\u001b[1G\u001b[0K"
          ]
        }
      ]
    },
    {
      "cell_type": "code",
      "source": [
        "# Configurar a ferramenta de busca do Google (lembre-se de configurar sua chave de API)\n",
        "##########################################\n",
        "# --- Agente 1: Buscador de Receitas --- #\n",
        "##########################################\n",
        "def agente_buscador_receitas(ingrediente):\n",
        "    buscador = Agent(\n",
        "        name=\"agente_buscador_receitas\",\n",
        "        model=\"gemini-2.0-flash\",\n",
        "        description=\"Buscar receitas no google com base nos ingredientes fornecidos pelo usuário.\",\n",
        "        tools=[google_search],\n",
        "        instruction=\"\"\"Você é um agente especializado em encontrar receitas deliciosas na internet.\n",
        "        Sua tarefa é usar a ferramenta do google (google_search) para buscar a receita mais relevante\n",
        "        com base nos ingredientes principais fornecido pelo usuário, e forneça informações\n",
        "        como o título da receita e um breve resumo ou os ingredientes principais, se disponíveis no resultado da busca.\n",
        "        Mantenha o foco em receitas práticas e acessíveis.\"\"\"\n",
        "    )\n",
        "    entrada_do_agente_buscador = f\"Ingrediente principal: {ingrediente}\"\n",
        "    # Executa o agente\n",
        "    receitas_encontradas = call_agent(buscador, entrada_do_agente_buscador)\n",
        "    return receitas_encontradas\n",
        "\n",
        "##################################################\n",
        "# --- Agente 2: Buscador de Imagens de Receitas --- #\n",
        "##################################################\n",
        "def agente_buscador_imagens(nome_da_receita):\n",
        "    buscador_imagens = Agent(\n",
        "        name=\"agente_buscador_imagens\",\n",
        "        model=\"gemini-2.0-flash\",\n",
        "        description=\"Buscar imagens correspondentes a uma receita específica no google.\",\n",
        "        tools=[google_search],\n",
        "        instruction=\"\"\"Você é um especialista em encontrar imagens online.\n",
        "        Sua tarefa é usar a ferramenta do google (google_search) para buscar uma imagem que represente bem a receita fornecida pelo agente 1.\n",
        "        A imagem deve ser visualmente atraente e relevante para o nome da receita.\n",
        "        Retorne apenas a URL da imagem encontrada.\"\"\"\n",
        "    )\n",
        "    entrada_do_agente_buscador_imagens = f\"Nome da receita: {nome_da_receita}\"\n",
        "    # Executa o agente\n",
        "    url_da_imagem = call_agent(buscador_imagens, entrada_do_agente_buscador_imagens)\n",
        "    return url_da_imagem\n",
        "\n",
        "######################################################\n",
        "# --- Agente 3: Criador de Post de Receita para Site --- #\n",
        "######################################################\n",
        "def agente_criador_post(receitas_encontradas):\n",
        "    criador_post = Agent(\n",
        "        name=\"agente_criador_post\",\n",
        "        model=\"gemini-2.0-flash\",\n",
        "        description=\"Juntar informações de receitas e imagens para criar um post para site.\",\n",
        "        instruction=\"\"\"Você é um criador de conteúdo para um site de receitas.\n",
        "        Com base nas informações da receita encontrada, sua tarefa é criar um post bem estruturado.\n",
        "        Inclua o título, os ingredientes (se disponíveis no resumo da busca),\n",
        "        um breve modo de preparo (se disponíveis no resumo), e dicas adicionais para o leitor.\n",
        "        Se você tiver a URL de uma imagem correspondente, mencione que uma imagem pode ser adicionada ao post.\n",
        "        Organize o post de forma clara e convidativa para os leitores do site.\"\"\"\n",
        "    )\n",
        "    entrada_do_agente_criador_post = f\"Informações das receitas: {receitas_encontradas}\"\n",
        "    # Executa o agente\n",
        "    post_para_site = call_agent(criador_post, entrada_do_agente_criador_post)\n",
        "    return post_para_site\n",
        "\n",
        "data_de_hoje = date.today().strftime(\"%d/%m/%Y\")\n",
        "\n",
        "print(\"🍳 Iniciando o Sistema de Criação de Posts de Receitas 🍳\")\n",
        "\n",
        "# --- Obter o Ingrediente do Usuário ---\n",
        "ingrediente_principal = input(\"🍎 Por favor, digite o ingrediente principal para buscar receitas: \")\n",
        "\n",
        "# Inserir lógica do sistema de agentes para receitas ################################################\n",
        "\n",
        "if not ingrediente_principal:\n",
        "    print(\"Você não digitou um ingrediente.\")\n",
        "else:\n",
        "    print(f\"Ótima escolha! Vamos buscar receitas com: {ingrediente_principal}\")\n",
        "\n",
        "    receitas_buscadas = agente_buscador_receitas(ingrediente_principal)\n",
        "\n",
        "    # Vamos pegar o título da primeira receita encontrada para buscar uma imagem\n",
        "    if receitas_buscadas and isinstance(receitas_buscadas, str):\n",
        "        # Tenta extrair o título da primeira receita (pode precisar de ajustes dependendo do formato da saída)\n",
        "        primeira_receita = receitas_buscadas.split('\\n')[0].replace(\"Título: \", \"\").strip() if \"Título:\" in receitas_buscadas.split('\\n')[0] else ingrediente_principal\n",
        "        url_imagem = agente_buscador_imagens(primeira_receita)\n",
        "        print(f\"Foto da receita: {url_imagem}\")\n",
        "        post_final = agente_criador_post(receitas_buscadas)\n",
        "        print(\"\\n--- Resultado ---\\n\")\n",
        "        display(to_markdown(post_final + f\"\\n\\n**Imagem:** {url_imagem}\"))\n",
        "        print(\"-----------------------------------------------------\")\n",
        "    else:\n",
        "        print(\"Nenhuma receita foi encontrada. Não foi possível buscar uma imagem ou criar o post.\")"
      ],
      "metadata": {
        "colab": {
          "base_uri": "https://localhost:8080/",
          "height": 942
        },
        "id": "-7QYrFtxmFYZ",
        "outputId": "8feefdb6-a62c-4694-f8e9-166714e72b30"
      },
      "execution_count": 38,
      "outputs": [
        {
          "output_type": "stream",
          "name": "stdout",
          "text": [
            "🍳 Iniciando o Sistema de Criação de Posts de Receitas 🍳\n",
            "🍎 Por favor, digite o ingrediente principal para buscar receitas: farinha\n",
            "Ótima escolha! Vamos buscar receitas com: farinha\n",
            "Foto da receita: Não consigo fornecer uma URL de imagem específica. No entanto, posso sugerir alguns links de onde você pode encontrar imagens de farinha:\n",
            "\n",
            "*   **Freepik:** Oferece diversas fotos gratuitas de farinha de trigo, incluindo fotos com espigas de trigo e ingredientes para bolos.\n",
            "*   **Vecteezy:** Possui uma vasta coleção de imagens e fotos de farinha, com opções gratuitas e pagas.\n",
            "*   **Unsplash:** Apresenta uma variedade de imagens de farinha de trigo de alta qualidade, gratuitas para uso comercial.\n",
            "*   **iStock:** Dispõe de um extenso banco de imagens de farinha, com fotos royalty-free.\n",
            "\n",
            "\n",
            "--- Resultado ---\n",
            "\n"
          ]
        },
        {
          "output_type": "display_data",
          "data": {
            "text/plain": [
              "<IPython.core.display.Markdown object>"
            ],
            "text/markdown": "> ## Delícias da Cozinha: Receitas Criativas com Farinha para Todos os Gostos!\n> \n> A farinha é um ingrediente versátil e essencial em qualquer cozinha, capaz de transformar preparações simples em pratos incrivelmente saborosos. Seja para um lanche rápido, um prato principal reconfortante ou uma sobremesa irresistível, a farinha é a base de inúmeras receitas que aquecem o coração e adoçam o paladar.\n> \n> **Opções Salgadas para Saborear:**\n> \n> Se você é fã de pratos salgados, prepare-se para explorar uma variedade de opções que vão te surpreender. Que tal começar com um delicioso camarão ao molho branco, perfeito para um jantar especial? Ou, quem sabe, uma torta-pão de presunto e queijo, ideal para um lanche reforçado?\n> \n> Para os amantes de empadão, experimente a versão com massa de grão de bico, uma opção nutritiva e saborosa. E que tal um fricassê de carne moída, prático e delicioso para o dia a dia? Para finalizar, o pastel assado com três queijos é uma excelente pedida para compartilhar com amigos e familiares.\n> \n> **Doce Tentação: Receitas Açucaradas com Farinha:**\n> \n> Se a sua paixão é por doces, prepare-se para se deliciar com as opções que a farinha pode proporcionar. Comece com um brownie super fácil, perfeito para matar aquela vontade de chocolate. Para os fãs de frutas cítricas, a tortinha de limão com brigadeiro é uma combinação irresistível.\n> \n> **Receita Coringa: Farinha, Água e Sal:**\n> \n> E para aqueles momentos em que a simplicidade é a chave, que tal experimentar uma receita que leva apenas três ingredientes: farinha, água e sal? Com essa combinação básica, é possível criar pães, massas e outras preparações deliciosas e econômicas.\n> \n> **Dicas Extras:**\n> \n> *   **Experimente diferentes tipos de farinha:** Além da tradicional farinha de trigo, explore outras opções como farinha de arroz, farinha de aveia, farinha de amêndoas e farinha de coco para adicionar novos sabores e texturas às suas receitas.\n> *   **Atenção às medidas:** Para garantir o sucesso de suas receitas, siga as medidas dos ingredientes com precisão. Utilize xícaras e colheres medidoras para obter os melhores resultados.\n> *   **Solte a criatividade:** Não tenha medo de experimentar e adaptar as receitas de acordo com suas preferências e ingredientes disponíveis. A cozinha é um espaço para a criação e a experimentação!\n> \n> **[Espaço para adicionar uma imagem de um prato feito com farinha]**\n> \n> Agora é só escolher sua receita favorita, colocar a mão na massa e desfrutar de momentos deliciosos na cozinha!\n> \n> \n> **Imagem:** Não consigo fornecer uma URL de imagem específica. No entanto, posso sugerir alguns links de onde você pode encontrar imagens de farinha:\n> \n> *   **Freepik:** Oferece diversas fotos gratuitas de farinha de trigo, incluindo fotos com espigas de trigo e ingredientes para bolos.\n> *   **Vecteezy:** Possui uma vasta coleção de imagens e fotos de farinha, com opções gratuitas e pagas.\n> *   **Unsplash:** Apresenta uma variedade de imagens de farinha de trigo de alta qualidade, gratuitas para uso comercial.\n> *   **iStock:** Dispõe de um extenso banco de imagens de farinha, com fotos royalty-free.\n"
          },
          "metadata": {}
        },
        {
          "output_type": "stream",
          "name": "stdout",
          "text": [
            "-----------------------------------------------------\n"
          ]
        }
      ]
    }
  ]
}